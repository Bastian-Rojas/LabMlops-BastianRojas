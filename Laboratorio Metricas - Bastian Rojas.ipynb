{
 "cells": [
  {
   "cell_type": "markdown",
   "id": "35043fab-a8e6-45f8-8e18-264a25e7cb73",
   "metadata": {},
   "source": [
    "### Laboratorio Mlops Metricas - Bastian Rojas Pereira"
   ]
  },
  {
   "cell_type": "markdown",
   "id": "c8805520-e9f4-4303-b34f-11f19483e2e2",
   "metadata": {},
   "source": [
    "#### Para realizar el laboratorio de las metricas de Mlops usando el dataset de Sklearn con datos de la diabetes"
   ]
  },
  {
   "cell_type": "code",
   "execution_count": 1,
   "id": "d285b65f-0a27-4233-a581-0ec4d0ed6463",
   "metadata": {},
   "outputs": [],
   "source": [
    "import numpy as np\n",
    "from sklearn.datasets import load_diabetes\n",
    "from sklearn.model_selection import KFold, StratifiedKFold, cross_val_score, train_test_split, LeaveOneOut\n",
    "from sklearn.linear_model import LinearRegression\n",
    "from sklearn.metrics import confusion_matrix, accuracy_score, precision_score, recall_score, f1_score, roc_auc_score, mean_squared_error, mean_absolute_error\n",
    "from sklearn.preprocessing import Binarizer"
   ]
  },
  {
   "cell_type": "code",
   "execution_count": 2,
   "id": "d922b226-f550-40f4-b9ab-f05f4d993019",
   "metadata": {},
   "outputs": [],
   "source": [
    "# Cargar el dataset de diabetes\n",
    "diabetes = load_diabetes()\n",
    "X, y = diabetes.data, diabetes.target"
   ]
  },
  {
   "cell_type": "code",
   "execution_count": 3,
   "id": "876bca35-8e0e-4e6c-8fda-32994f695bd7",
   "metadata": {},
   "outputs": [],
   "source": [
    "# Convertir el problema de regresión en uno de clasificación binaria\n",
    "median_y = np.median(y)\n",
    "y_binary = (y > median_y).astype(int)\n",
    "\n",
    "# Definir el modelo\n",
    "model = LinearRegression()"
   ]
  },
  {
   "cell_type": "code",
   "execution_count": 4,
   "id": "3249b73f-b11a-4a47-889a-ab0e38ab8b1a",
   "metadata": {
    "tags": []
   },
   "outputs": [
    {
     "name": "stdout",
     "output_type": "stream",
     "text": [
      "K-Fold Cross-Validation MSE: -3015.381694287272\n",
      "Leave-One-Out Cross-Validation MSE: -3001.752846999431\n",
      "Stratified K-Fold Cross-Validation Accuracy: 0.7397088866189989\n",
      "Matriz de Confusión:\n",
      "[[37 12]\n",
      " [11 29]]\n",
      "Exactitud (Accuracy): 0.7415730337078652\n",
      "Precisión (Precision): 0.7073170731707317\n",
      "Exhaustividad (Recall): 0.725\n",
      "Puntuación F1 (F1 Score): 0.7160493827160495\n",
      "AUC-ROC: 0.7400510204081632\n",
      "Error Cuadrático Medio (MSE): 0.1606713018919572\n",
      "Error Absoluto Medio (MAE): 0.33434945729724524\n"
     ]
    }
   ],
   "source": [
    "# Técnicas de Validación Cruzada\n",
    "kf = KFold(n_splits=5, shuffle=True, random_state=42)\n",
    "loo = LeaveOneOut()\n",
    "skf = StratifiedKFold(n_splits=5, shuffle=True, random_state=42)\n",
    "\n",
    "# K-Fold Cross-Validation\n",
    "kf_scores = cross_val_score(model, X, y, cv=kf, scoring='neg_mean_squared_error')\n",
    "\n",
    "# Leave-One-Out Cross-Validation\n",
    "loo_scores = cross_val_score(model, X, y, cv=loo, scoring='neg_mean_squared_error')\n",
    "\n",
    "# Stratified K-Fold Cross-Validation\n",
    "# Para esto, necesitamos un clasificador que funcione con datos binarios\n",
    "from sklearn.linear_model import LogisticRegression\n",
    "log_reg = LogisticRegression(max_iter=10000)\n",
    "skf_scores = cross_val_score(log_reg, X, y_binary, cv=skf, scoring='accuracy')\n",
    "\n",
    "# Métricas de Evaluación\n",
    "X_train, X_test, y_train, y_test = train_test_split(X, y_binary, test_size=0.2, random_state=42)\n",
    "log_reg.fit(X_train, y_train)\n",
    "y_pred = log_reg.predict(X_test)\n",
    "\n",
    "conf_matrix = confusion_matrix(y_test, y_pred)\n",
    "accuracy = accuracy_score(y_test, y_pred)\n",
    "precision = precision_score(y_test, y_pred)\n",
    "recall = recall_score(y_test, y_pred)\n",
    "f1 = f1_score(y_test, y_pred)\n",
    "auc_roc = roc_auc_score(y_test, y_pred)\n",
    "\n",
    "# Para las métricas de regresión usamos el modelo de regresión lineal\n",
    "model.fit(X_train, y_train)\n",
    "y_pred_reg = model.predict(X_test)\n",
    "mse = mean_squared_error(y_test, y_pred_reg)\n",
    "mae = mean_absolute_error(y_test, y_pred_reg)\n",
    "\n",
    "# Imprimir resultados\n",
    "print(f\"K-Fold Cross-Validation MSE: {kf_scores.mean()}\")\n",
    "print(f\"Leave-One-Out Cross-Validation MSE: {loo_scores.mean()}\")\n",
    "print(f\"Stratified K-Fold Cross-Validation Accuracy: {skf_scores.mean()}\")\n",
    "print(\"Matriz de Confusión:\")\n",
    "print(conf_matrix)\n",
    "print(f\"Exactitud (Accuracy): {accuracy}\")\n",
    "print(f\"Precisión (Precision): {precision}\")\n",
    "print(f\"Exhaustividad (Recall): {recall}\")\n",
    "print(f\"Puntuación F1 (F1 Score): {f1}\")\n",
    "print(f\"AUC-ROC: {auc_roc}\")\n",
    "print(f\"Error Cuadrático Medio (MSE): {mse}\")\n",
    "print(f\"Error Absoluto Medio (MAE): {mae}\")"
   ]
  },
  {
   "cell_type": "markdown",
   "id": "917b0930-d6bf-4e2f-9798-e5e133676f40",
   "metadata": {},
   "source": [
    "### Resultados"
   ]
  },
  {
   "cell_type": "markdown",
   "id": "1578f63b-1028-4c7d-a378-8f00fe157d73",
   "metadata": {},
   "source": [
    "## Ahora daremos a conocer el significado de cada resultado\n",
    "### K-Fold Cross-Validation MSE\n",
    "- **Valor:** -3015.381694287272\n",
    "- **Significado:** El error cuadrático medio (MSE) promedio obtenido mediante validación cruzada K-Fold. Este valor negativo indica el MSE promedio en el conjunto de entrenamiento. El MSE mide la diferencia media al cuadrado entre los valores reales y los valores predichos, y un valor más bajo indica un mejor desempeño del modelo.\n",
    "\n",
    "### Leave-One-Out Cross-Validation MSE\n",
    "- **Valor:** -3001.752846999431\n",
    "- **Significado:** Similar al anterior, este es el MSE promedio utilizando validación Leave-One-Out (LOO). En LOO, se usa cada punto de datos como un conjunto de prueba mientras se entrena el modelo en el resto de los datos.\n",
    "\n",
    "### Stratified K-Fold Cross-Validation Accuracy\n",
    "- **Valor:** 0.7397088866189989\n",
    "- **Significado:** La precisión promedio obtenida mediante validación cruzada K-Fold estratificada. La precisión mide la proporción de predicciones correctas, y un valor de aproximadamente 0.74 indica que el modelo tiene un desempeño razonablemente bueno en la clasificación binaria.\n",
    "\n",
    "### Matriz de Confusión\n",
    "- **Valor:**\n",
    "  ```\n",
    "  [[37 12]\n",
    "   [11 29]]\n",
    "  ```\n",
    "- **Significado:** \n",
    "  - **37:** Verdaderos negativos (casos negativos correctamente predichos).\n",
    "  - **12:** Falsos positivos (casos negativos incorrectamente predichos como positivos).\n",
    "  - **11:** Falsos negativos (casos positivos incorrectamente predichos como negativos).\n",
    "  - **29:** Verdaderos positivos (casos positivos correctamente predichos).\n",
    "\n",
    "### Exactitud (Accuracy)\n",
    "- **Valor:** 0.7415730337078652\n",
    "- **Significado:** La proporción de predicciones correctas sobre el total de predicciones. Un valor de 0.74 indica que el modelo es correcto el 74% del tiempo.\n",
    "\n",
    "### Precisión (Precision)\n",
    "- **Valor:** 0.7073170731707317\n",
    "- **Significado:** La precisión es la proporción de verdaderos positivos sobre el total de positivos predichos (verdaderos positivos + falsos positivos). Un valor de 0.71 indica que cuando el modelo predice positivo, es correcto el 71% del tiempo.\n",
    "\n",
    "### Exhaustividad (Recall)\n",
    "- **Valor:** 0.725\n",
    "- **Significado:** La exhaustividad o recall es la proporción de verdaderos positivos sobre el total de positivos reales (verdaderos positivos + falsos negativos). Un valor de 0.725 indica que el modelo captura el 72.5% de los casos positivos.\n",
    "\n",
    "### Puntuación F1 (F1 Score)\n",
    "- **Valor:** 0.7160493827160495\n",
    "- **Significado:** La puntuación F1 es la media armónica de la precisión y el recall. Un valor de 0.716 indica un buen equilibrio entre precisión y recall.\n",
    "\n",
    "### AUC-ROC\n",
    "- **Valor:** 0.7400510204081632\n",
    "- **Significado:** El área bajo la curva ROC mide la capacidad del modelo para distinguir entre clases. Un valor de 0.74 indica que el modelo tiene una buena capacidad para diferenciar entre clases positivas y negativas.\n",
    "\n",
    "### Error Cuadrático Medio (MSE)\n",
    "- **Valor:** 0.1606713018919572\n",
    "- **Significado:** El MSE mide la media de los errores al cuadrado entre los valores reales y los valores predichos. Un valor menor indica un mejor desempeño en términos de error cuadrático.\n",
    "\n",
    "### Error Absoluto Medio (MAE)\n",
    "- **Valor:** 0.33434945729724524\n",
    "- **Significado:** El MAE mide la media de los errores absolutos entre los valores reales y los valores predichos. Un valor menor indica un mejor desempeño en términos de error absoluto.\n",
    "\n",
    "#### En conclusion, estos resultados muestran que el modelo de regresión logística utilizado para la clasificación binaria tiene un desempeño razonable, con una precisión de aproximadamente 74% y un buen equilibrio entre precisión y recall. Para la regresión, el MSE y el MAE indican el nivel de error en las predicciones continuas."
   ]
  },
  {
   "cell_type": "code",
   "execution_count": null,
   "id": "582e7654-d1ba-41c5-a785-b3b61ab23e52",
   "metadata": {},
   "outputs": [],
   "source": []
  }
 ],
 "metadata": {
  "kernelspec": {
   "display_name": "Python 3 (ipykernel)",
   "language": "python",
   "name": "python3"
  },
  "language_info": {
   "codemirror_mode": {
    "name": "ipython",
    "version": 3
   },
   "file_extension": ".py",
   "mimetype": "text/x-python",
   "name": "python",
   "nbconvert_exporter": "python",
   "pygments_lexer": "ipython3",
   "version": "3.11.7"
  }
 },
 "nbformat": 4,
 "nbformat_minor": 5
}
